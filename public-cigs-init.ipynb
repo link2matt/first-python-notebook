{
 "cells": [
  {
   "cell_type": "markdown",
   "metadata": {},
   "source": [
    "# My First Notebook\n",
    "Proposition 56 analysis by Matt DeVries.  This is a sample notebook prepared as part of the Python for Data Journalists class.  The Proposition 56 was a California initiative to add a $2 sales tax on packs of cigarettes.  The initiative was passed in November 2017.  The following is an analysis of contributions to the campaign for Proposition 56."
   ]
  },
  {
   "cell_type": "markdown",
   "metadata": {},
   "source": [
    "This analysis is run in Python using the pandas and matplotlib libraries."
   ]
  },
  {
   "cell_type": "code",
   "execution_count": 2,
   "metadata": {
    "collapsed": true
   },
   "outputs": [],
   "source": [
    "import pandas as pd"
   ]
  },
  {
   "cell_type": "code",
   "execution_count": 3,
   "metadata": {
    "collapsed": true
   },
   "outputs": [],
   "source": [
    "%matplotlib inline"
   ]
  },
  {
   "cell_type": "markdown",
   "metadata": {},
   "source": [
    "## Reading and prepping data\n",
    "Reading in the list of propositions and committees."
   ]
  },
  {
   "cell_type": "code",
   "execution_count": 4,
   "metadata": {
    "collapsed": true
   },
   "outputs": [],
   "source": [
    "props = pd.read_csv(\"http://www.firstpythonnotebook.org/_static/committees.csv\")"
   ]
  },
  {
   "cell_type": "markdown",
   "metadata": {},
   "source": [
    "Read in the list of contriubtions to ballot measures."
   ]
  },
  {
   "cell_type": "code",
   "execution_count": 7,
   "metadata": {
    "collapsed": true
   },
   "outputs": [],
   "source": [
    "contribs = pd.read_csv(\"http://www.firstpythonnotebook.org/_static/contributions.csv\")"
   ]
  },
  {
   "cell_type": "markdown",
   "metadata": {},
   "source": [
    "Created a new data frame for Proposition 56 committees."
   ]
  },
  {
   "cell_type": "code",
   "execution_count": 13,
   "metadata": {
    "collapsed": true
   },
   "outputs": [],
   "source": [
    "cig_prop = props[props.prop_name == \"PROPOSITION 056 - CIGARETTE TAX TO FUND HEALTHCARE, TOBACCO USE PREVENTION, RESEARCH, AND LAW ENFORCEMENT. INITIATIVE CONSTITUTIONAL AMENDMENT AND STATUTE.\"]"
   ]
  },
  {
   "cell_type": "markdown",
   "metadata": {},
   "source": [
    "Merge data about contributors with data about all of the committees."
   ]
  },
  {
   "cell_type": "code",
   "execution_count": 69,
   "metadata": {
    "collapsed": true
   },
   "outputs": [],
   "source": [
    "merged_all = pd.merge(props, contribs, on = \"calaccess_committee_id\")"
   ]
  },
  {
   "cell_type": "code",
   "execution_count": 18,
   "metadata": {
    "collapsed": true
   },
   "outputs": [],
   "source": [
    "merged = pd.merge(cig_prop, contribs, on = \"calaccess_committee_id\")"
   ]
  },
  {
   "cell_type": "markdown",
   "metadata": {},
   "source": [
    "Sort initiatives by amount of contributions."
   ]
  },
  {
   "cell_type": "code",
   "execution_count": 71,
   "metadata": {
    "scrolled": false
   },
   "outputs": [
    {
     "data": {
      "text/html": [
       "<div>\n",
       "<style>\n",
       "    .dataframe thead tr:only-child th {\n",
       "        text-align: right;\n",
       "    }\n",
       "\n",
       "    .dataframe thead th {\n",
       "        text-align: left;\n",
       "    }\n",
       "\n",
       "    .dataframe tbody tr th {\n",
       "        vertical-align: top;\n",
       "    }\n",
       "</style>\n",
       "<table border=\"1\" class=\"dataframe\">\n",
       "  <thead>\n",
       "    <tr style=\"text-align: right;\">\n",
       "      <th></th>\n",
       "      <th>prop_name</th>\n",
       "      <th>amount</th>\n",
       "    </tr>\n",
       "  </thead>\n",
       "  <tbody>\n",
       "    <tr>\n",
       "      <th>10</th>\n",
       "      <td>PROPOSITION 061- STATE PRESCRIPTION DRUG PURCH...</td>\n",
       "      <td>1.273146e+08</td>\n",
       "    </tr>\n",
       "    <tr>\n",
       "      <th>5</th>\n",
       "      <td>PROPOSITION 056 - CIGARETTE TAX TO FUND HEALTH...</td>\n",
       "      <td>8.836929e+07</td>\n",
       "    </tr>\n",
       "    <tr>\n",
       "      <th>4</th>\n",
       "      <td>PROPOSITION 055 - TAX EXTENSION TO FUND EDUCAT...</td>\n",
       "      <td>5.665873e+07</td>\n",
       "    </tr>\n",
       "    <tr>\n",
       "      <th>13</th>\n",
       "      <td>PROPOSITION 064- MARIJUANA LEGALIZATION. INITI...</td>\n",
       "      <td>3.517702e+07</td>\n",
       "    </tr>\n",
       "    <tr>\n",
       "      <th>15</th>\n",
       "      <td>PROPOSITION 066- DEATH PENALTY. PROCEDURES. IN...</td>\n",
       "      <td>3.429124e+07</td>\n",
       "    </tr>\n",
       "    <tr>\n",
       "      <th>11</th>\n",
       "      <td>PROPOSITION 062- DEATH PENALTY. INITIATIVE STA...</td>\n",
       "      <td>3.283668e+07</td>\n",
       "    </tr>\n",
       "    <tr>\n",
       "      <th>2</th>\n",
       "      <td>PROPOSITION 053 - REVENUE BONDS. STATEWIDE VOT...</td>\n",
       "      <td>2.234050e+07</td>\n",
       "    </tr>\n",
       "    <tr>\n",
       "      <th>6</th>\n",
       "      <td>PROPOSITION 057 - CRIMINAL SENTENCES. JUVENILE...</td>\n",
       "      <td>2.009737e+07</td>\n",
       "    </tr>\n",
       "    <tr>\n",
       "      <th>1</th>\n",
       "      <td>PROPOSITION 052 - STATE FEES ON HOSPITALS. FED...</td>\n",
       "      <td>1.628314e+07</td>\n",
       "    </tr>\n",
       "    <tr>\n",
       "      <th>0</th>\n",
       "      <td>PROPOSITION 051 - SCHOOL BONDS. FUNDING FOR K-...</td>\n",
       "      <td>1.298794e+07</td>\n",
       "    </tr>\n",
       "    <tr>\n",
       "      <th>9</th>\n",
       "      <td>PROPOSITION 060- ADULT FILMS. CONDOMS. HEALTH ...</td>\n",
       "      <td>5.032221e+06</td>\n",
       "    </tr>\n",
       "    <tr>\n",
       "      <th>16</th>\n",
       "      <td>PROPOSITION 067- REFERENDUM TO OVERTURN BAN ON...</td>\n",
       "      <td>4.470574e+06</td>\n",
       "    </tr>\n",
       "    <tr>\n",
       "      <th>7</th>\n",
       "      <td>PROPOSITION 058 - SB 1174 (CHAPTER 753, STATUT...</td>\n",
       "      <td>4.409450e+06</td>\n",
       "    </tr>\n",
       "    <tr>\n",
       "      <th>12</th>\n",
       "      <td>PROPOSITION 063- FIREARMS. AMMUNITION SALES. I...</td>\n",
       "      <td>3.491137e+06</td>\n",
       "    </tr>\n",
       "    <tr>\n",
       "      <th>14</th>\n",
       "      <td>PROPOSITION 065- CARRY-OUT BAGS. CHARGES. INIT...</td>\n",
       "      <td>2.681413e+06</td>\n",
       "    </tr>\n",
       "    <tr>\n",
       "      <th>8</th>\n",
       "      <td>PROPOSITION 059- SB 254 (CHAPTER 20, STATUTES ...</td>\n",
       "      <td>2.585466e+05</td>\n",
       "    </tr>\n",
       "    <tr>\n",
       "      <th>3</th>\n",
       "      <td>PROPOSITION 054 - LEGISLATURE. LEGISLATION AND...</td>\n",
       "      <td>1.521790e+05</td>\n",
       "    </tr>\n",
       "  </tbody>\n",
       "</table>\n",
       "</div>"
      ],
      "text/plain": [
       "                                            prop_name        amount\n",
       "10  PROPOSITION 061- STATE PRESCRIPTION DRUG PURCH...  1.273146e+08\n",
       "5   PROPOSITION 056 - CIGARETTE TAX TO FUND HEALTH...  8.836929e+07\n",
       "4   PROPOSITION 055 - TAX EXTENSION TO FUND EDUCAT...  5.665873e+07\n",
       "13  PROPOSITION 064- MARIJUANA LEGALIZATION. INITI...  3.517702e+07\n",
       "15  PROPOSITION 066- DEATH PENALTY. PROCEDURES. IN...  3.429124e+07\n",
       "11  PROPOSITION 062- DEATH PENALTY. INITIATIVE STA...  3.283668e+07\n",
       "2   PROPOSITION 053 - REVENUE BONDS. STATEWIDE VOT...  2.234050e+07\n",
       "6   PROPOSITION 057 - CRIMINAL SENTENCES. JUVENILE...  2.009737e+07\n",
       "1   PROPOSITION 052 - STATE FEES ON HOSPITALS. FED...  1.628314e+07\n",
       "0   PROPOSITION 051 - SCHOOL BONDS. FUNDING FOR K-...  1.298794e+07\n",
       "9   PROPOSITION 060- ADULT FILMS. CONDOMS. HEALTH ...  5.032221e+06\n",
       "16  PROPOSITION 067- REFERENDUM TO OVERTURN BAN ON...  4.470574e+06\n",
       "7   PROPOSITION 058 - SB 1174 (CHAPTER 753, STATUT...  4.409450e+06\n",
       "12  PROPOSITION 063- FIREARMS. AMMUNITION SALES. I...  3.491137e+06\n",
       "14  PROPOSITION 065- CARRY-OUT BAGS. CHARGES. INIT...  2.681413e+06\n",
       "8   PROPOSITION 059- SB 254 (CHAPTER 20, STATUTES ...  2.585466e+05\n",
       "3   PROPOSITION 054 - LEGISLATURE. LEGISLATION AND...  1.521790e+05"
      ]
     },
     "execution_count": 71,
     "metadata": {},
     "output_type": "execute_result"
    }
   ],
   "source": [
    "merged_all.groupby(\"prop_name\").amount.sum().reset_index().sort_values(\"amount\", ascending = False)"
   ]
  },
  {
   "cell_type": "markdown",
   "metadata": {},
   "source": [
    "Propoistion 56 received the second most contributions from large donors in November 2017 election.  Let's look further into contributions for the Prop. 56 campaign."
   ]
  },
  {
   "cell_type": "markdown",
   "metadata": {},
   "source": [
    "## General info about Prop. 56 contributors\n",
    "Calculate the proportion of large contributions that opposed the initiative."
   ]
  },
  {
   "cell_type": "code",
   "execution_count": 22,
   "metadata": {
    "collapsed": true
   },
   "outputs": [],
   "source": [
    "support = merged[merged.committee_position == \"SUPPORT\"].amount.sum()"
   ]
  },
  {
   "cell_type": "code",
   "execution_count": 23,
   "metadata": {
    "collapsed": true
   },
   "outputs": [],
   "source": [
    "opposed = merged[merged.committee_position == \"OPPOSE\"].amount.sum()"
   ]
  },
  {
   "cell_type": "code",
   "execution_count": 34,
   "metadata": {},
   "outputs": [
    {
     "name": "stdout",
     "output_type": "stream",
     "text": [
      "Share of contributors opposing Prop. 56: 62.0%\n"
     ]
    }
   ],
   "source": [
    "print \"Share of contributors opposing Prop. 56: %s%%\" % round(opposed/(support + opposed) * 100)"
   ]
  },
  {
   "cell_type": "markdown",
   "metadata": {},
   "source": [
    "Report of amounts raised by Prop. 56 committees."
   ]
  },
  {
   "cell_type": "code",
   "execution_count": 43,
   "metadata": {},
   "outputs": [
    {
     "data": {
      "text/html": [
       "<div>\n",
       "<style>\n",
       "    .dataframe thead tr:only-child th {\n",
       "        text-align: right;\n",
       "    }\n",
       "\n",
       "    .dataframe thead th {\n",
       "        text-align: left;\n",
       "    }\n",
       "\n",
       "    .dataframe tbody tr th {\n",
       "        vertical-align: top;\n",
       "    }\n",
       "</style>\n",
       "<table border=\"1\" class=\"dataframe\">\n",
       "  <thead>\n",
       "    <tr style=\"text-align: right;\">\n",
       "      <th></th>\n",
       "      <th>committee_name_x</th>\n",
       "      <th>amount</th>\n",
       "    </tr>\n",
       "  </thead>\n",
       "  <tbody>\n",
       "    <tr>\n",
       "      <th>6</th>\n",
       "      <td>NO ON 56 - STOP THE SPECIAL INTEREST TAX GRAB....</td>\n",
       "      <td>54650500.00</td>\n",
       "    </tr>\n",
       "    <tr>\n",
       "      <th>9</th>\n",
       "      <td>YES ON 56 - SAVES LIVES CALIFORNIA, A COALITIO...</td>\n",
       "      <td>29267861.00</td>\n",
       "    </tr>\n",
       "    <tr>\n",
       "      <th>5</th>\n",
       "      <td>MILLION VOTER PROJECT ACTION FUND - YES ON 55,...</td>\n",
       "      <td>2110000.00</td>\n",
       "    </tr>\n",
       "    <tr>\n",
       "      <th>3</th>\n",
       "      <td>FIGHT CANCER - YES ON 56, SPONSORED BY AMERICA...</td>\n",
       "      <td>801450.00</td>\n",
       "    </tr>\n",
       "    <tr>\n",
       "      <th>4</th>\n",
       "      <td>MILLION VOTER PROJECT ACTION FUND - YES ON 55 ...</td>\n",
       "      <td>426035.55</td>\n",
       "    </tr>\n",
       "    <tr>\n",
       "      <th>1</th>\n",
       "      <td>CALIFORNIA KIDS CAMPAIGN, YES ON PROPS 55 &amp; 56...</td>\n",
       "      <td>295000.00</td>\n",
       "    </tr>\n",
       "    <tr>\n",
       "      <th>2</th>\n",
       "      <td>COMMON SENSE KIDS ACTION, INC., YES ON PROPS. ...</td>\n",
       "      <td>295000.00</td>\n",
       "    </tr>\n",
       "    <tr>\n",
       "      <th>10</th>\n",
       "      <td>YES ON 56 STOP CANCER - PLANNED PARENTHOOD ADV...</td>\n",
       "      <td>250000.00</td>\n",
       "    </tr>\n",
       "    <tr>\n",
       "      <th>11</th>\n",
       "      <td>YES ON 56 STOP CANCER - PLANNED PARENTHOOD OF ...</td>\n",
       "      <td>200000.00</td>\n",
       "    </tr>\n",
       "    <tr>\n",
       "      <th>7</th>\n",
       "      <td>PICO CALIFORNIA - YES ON 55, 56, AND 57 (NON P...</td>\n",
       "      <td>37941.12</td>\n",
       "    </tr>\n",
       "    <tr>\n",
       "      <th>0</th>\n",
       "      <td>CALIFORNIA CITIZENS AGAINST SPECIAL INTERESTS ...</td>\n",
       "      <td>32050.00</td>\n",
       "    </tr>\n",
       "    <tr>\n",
       "      <th>8</th>\n",
       "      <td>PROTECT SMALL BUSINESS AND SMOKE FREE ALTERNAT...</td>\n",
       "      <td>3454.00</td>\n",
       "    </tr>\n",
       "  </tbody>\n",
       "</table>\n",
       "</div>"
      ],
      "text/plain": [
       "                                     committee_name_x       amount\n",
       "6   NO ON 56 - STOP THE SPECIAL INTEREST TAX GRAB....  54650500.00\n",
       "9   YES ON 56 - SAVES LIVES CALIFORNIA, A COALITIO...  29267861.00\n",
       "5   MILLION VOTER PROJECT ACTION FUND - YES ON 55,...   2110000.00\n",
       "3   FIGHT CANCER - YES ON 56, SPONSORED BY AMERICA...    801450.00\n",
       "4   MILLION VOTER PROJECT ACTION FUND - YES ON 55 ...    426035.55\n",
       "1   CALIFORNIA KIDS CAMPAIGN, YES ON PROPS 55 & 56...    295000.00\n",
       "2   COMMON SENSE KIDS ACTION, INC., YES ON PROPS. ...    295000.00\n",
       "10  YES ON 56 STOP CANCER - PLANNED PARENTHOOD ADV...    250000.00\n",
       "11  YES ON 56 STOP CANCER - PLANNED PARENTHOOD OF ...    200000.00\n",
       "7   PICO CALIFORNIA - YES ON 55, 56, AND 57 (NON P...     37941.12\n",
       "0   CALIFORNIA CITIZENS AGAINST SPECIAL INTERESTS ...     32050.00\n",
       "8   PROTECT SMALL BUSINESS AND SMOKE FREE ALTERNAT...      3454.00"
      ]
     },
     "execution_count": 43,
     "metadata": {},
     "output_type": "execute_result"
    }
   ],
   "source": [
    "merged.groupby(\"committee_name_x\").amount.sum().reset_index().sort_values(\"amount\", ascending = False)"
   ]
  },
  {
   "cell_type": "markdown",
   "metadata": {},
   "source": [
    "Sort individual contributions by employer."
   ]
  },
  {
   "cell_type": "code",
   "execution_count": 42,
   "metadata": {},
   "outputs": [
    {
     "data": {
      "text/html": [
       "<div>\n",
       "<style>\n",
       "    .dataframe thead tr:only-child th {\n",
       "        text-align: right;\n",
       "    }\n",
       "\n",
       "    .dataframe thead th {\n",
       "        text-align: left;\n",
       "    }\n",
       "\n",
       "    .dataframe tbody tr th {\n",
       "        vertical-align: top;\n",
       "    }\n",
       "</style>\n",
       "<table border=\"1\" class=\"dataframe\">\n",
       "  <thead>\n",
       "    <tr style=\"text-align: right;\">\n",
       "      <th></th>\n",
       "      <th>contributor_employer</th>\n",
       "      <th>committee_position</th>\n",
       "      <th>amount</th>\n",
       "    </tr>\n",
       "  </thead>\n",
       "  <tbody>\n",
       "    <tr>\n",
       "      <th>17</th>\n",
       "      <td>NEXTGEN CLIMATE</td>\n",
       "      <td>SUPPORT</td>\n",
       "      <td>11300000.0</td>\n",
       "    </tr>\n",
       "    <tr>\n",
       "      <th>12</th>\n",
       "      <td>FARALLON CAPITAL</td>\n",
       "      <td>SUPPORT</td>\n",
       "      <td>1750000.0</td>\n",
       "    </tr>\n",
       "    <tr>\n",
       "      <th>6</th>\n",
       "      <td>BLOOMBERG LP</td>\n",
       "      <td>SUPPORT</td>\n",
       "      <td>500000.0</td>\n",
       "    </tr>\n",
       "    <tr>\n",
       "      <th>1</th>\n",
       "      <td>AKONADI FOUNDATION</td>\n",
       "      <td>SUPPORT</td>\n",
       "      <td>75000.0</td>\n",
       "    </tr>\n",
       "    <tr>\n",
       "      <th>4</th>\n",
       "      <td>ARTICLE 3 ADVISORS</td>\n",
       "      <td>SUPPORT</td>\n",
       "      <td>50000.0</td>\n",
       "    </tr>\n",
       "    <tr>\n",
       "      <th>14</th>\n",
       "      <td>KAITLYN TRIGGER KRIEGER</td>\n",
       "      <td>SUPPORT</td>\n",
       "      <td>25000.0</td>\n",
       "    </tr>\n",
       "    <tr>\n",
       "      <th>0</th>\n",
       "      <td>ADAM GUNTHER</td>\n",
       "      <td>SUPPORT</td>\n",
       "      <td>10000.0</td>\n",
       "    </tr>\n",
       "    <tr>\n",
       "      <th>18</th>\n",
       "      <td>NONE</td>\n",
       "      <td>SUPPORT</td>\n",
       "      <td>2512.0</td>\n",
       "    </tr>\n",
       "    <tr>\n",
       "      <th>27</th>\n",
       "      <td>TELFORD'S PIPE &amp; CIGAR, INC.</td>\n",
       "      <td>OPPOSE</td>\n",
       "      <td>1000.0</td>\n",
       "    </tr>\n",
       "    <tr>\n",
       "      <th>29</th>\n",
       "      <td>UNIVERSITY OF CALIFORNIA, LOS ANGELES</td>\n",
       "      <td>SUPPORT</td>\n",
       "      <td>500.0</td>\n",
       "    </tr>\n",
       "    <tr>\n",
       "      <th>5</th>\n",
       "      <td>BAIN &amp; COMPANY</td>\n",
       "      <td>SUPPORT</td>\n",
       "      <td>500.0</td>\n",
       "    </tr>\n",
       "    <tr>\n",
       "      <th>26</th>\n",
       "      <td>STANFORD UNIVERSITY</td>\n",
       "      <td>SUPPORT</td>\n",
       "      <td>350.0</td>\n",
       "    </tr>\n",
       "    <tr>\n",
       "      <th>20</th>\n",
       "      <td>ORACLE</td>\n",
       "      <td>OPPOSE</td>\n",
       "      <td>350.0</td>\n",
       "    </tr>\n",
       "    <tr>\n",
       "      <th>32</th>\n",
       "      <td>WALT DISNEY COMPANY</td>\n",
       "      <td>SUPPORT</td>\n",
       "      <td>300.0</td>\n",
       "    </tr>\n",
       "    <tr>\n",
       "      <th>9</th>\n",
       "      <td>CONTRA COSTA COUNTY</td>\n",
       "      <td>SUPPORT</td>\n",
       "      <td>250.0</td>\n",
       "    </tr>\n",
       "    <tr>\n",
       "      <th>28</th>\n",
       "      <td>UNIVERSITY OF CALIFORNIA</td>\n",
       "      <td>SUPPORT</td>\n",
       "      <td>250.0</td>\n",
       "    </tr>\n",
       "    <tr>\n",
       "      <th>7</th>\n",
       "      <td>CALIFORNIA DEPARTMENT OF PUBLIC HEALTH</td>\n",
       "      <td>SUPPORT</td>\n",
       "      <td>250.0</td>\n",
       "    </tr>\n",
       "    <tr>\n",
       "      <th>15</th>\n",
       "      <td>LINZER AND ASSOCIATES, LLC</td>\n",
       "      <td>SUPPORT</td>\n",
       "      <td>250.0</td>\n",
       "    </tr>\n",
       "    <tr>\n",
       "      <th>23</th>\n",
       "      <td>SHELL CORPORATION</td>\n",
       "      <td>SUPPORT</td>\n",
       "      <td>200.0</td>\n",
       "    </tr>\n",
       "    <tr>\n",
       "      <th>2</th>\n",
       "      <td>ALLY AGENCY, INC.</td>\n",
       "      <td>SUPPORT</td>\n",
       "      <td>150.0</td>\n",
       "    </tr>\n",
       "  </tbody>\n",
       "</table>\n",
       "</div>"
      ],
      "text/plain": [
       "                      contributor_employer committee_position      amount\n",
       "17                         NEXTGEN CLIMATE            SUPPORT  11300000.0\n",
       "12                        FARALLON CAPITAL            SUPPORT   1750000.0\n",
       "6                             BLOOMBERG LP            SUPPORT    500000.0\n",
       "1                       AKONADI FOUNDATION            SUPPORT     75000.0\n",
       "4                       ARTICLE 3 ADVISORS            SUPPORT     50000.0\n",
       "14                 KAITLYN TRIGGER KRIEGER            SUPPORT     25000.0\n",
       "0                             ADAM GUNTHER            SUPPORT     10000.0\n",
       "18                                    NONE            SUPPORT      2512.0\n",
       "27            TELFORD'S PIPE & CIGAR, INC.             OPPOSE      1000.0\n",
       "29   UNIVERSITY OF CALIFORNIA, LOS ANGELES            SUPPORT       500.0\n",
       "5                           BAIN & COMPANY            SUPPORT       500.0\n",
       "26                     STANFORD UNIVERSITY            SUPPORT       350.0\n",
       "20                                  ORACLE             OPPOSE       350.0\n",
       "32                     WALT DISNEY COMPANY            SUPPORT       300.0\n",
       "9                      CONTRA COSTA COUNTY            SUPPORT       250.0\n",
       "28                UNIVERSITY OF CALIFORNIA            SUPPORT       250.0\n",
       "7   CALIFORNIA DEPARTMENT OF PUBLIC HEALTH            SUPPORT       250.0\n",
       "15              LINZER AND ASSOCIATES, LLC            SUPPORT       250.0\n",
       "23                       SHELL CORPORATION            SUPPORT       200.0\n",
       "2                        ALLY AGENCY, INC.            SUPPORT       150.0"
      ]
     },
     "execution_count": 42,
     "metadata": {},
     "output_type": "execute_result"
    }
   ],
   "source": [
    "merged.groupby([\"contributor_employer\", \"committee_position\"]).amount.sum().reset_index().sort_values(\"amount\", ascending=False).head(20)"
   ]
  },
  {
   "cell_type": "markdown",
   "metadata": {},
   "source": [
    "## Report the largest donors for Prop. 56\n",
    "Clean up the database to facilitate grouping donations by donor."
   ]
  },
  {
   "cell_type": "code",
   "execution_count": 49,
   "metadata": {
    "collapsed": true
   },
   "outputs": [],
   "source": [
    "merged['contributor_fullname'] = merged.contributor_firstname + \" \" + merged.contributor_lastname"
   ]
  },
  {
   "cell_type": "code",
   "execution_count": 48,
   "metadata": {
    "collapsed": true
   },
   "outputs": [],
   "source": [
    "def steyer_fix(row):\n",
    "    if row.contributor_fullname == \"THOMAS F. STEYER\":\n",
    "        return \"THOMAS STEYER\"\n",
    "    return row.contributor_fullname"
   ]
  },
  {
   "cell_type": "code",
   "execution_count": 50,
   "metadata": {
    "collapsed": true
   },
   "outputs": [],
   "source": [
    "def combine_names(row):\n",
    "    if row.is_org:\n",
    "        return row.contributor_lastname\n",
    "    return row.contributor_fullname"
   ]
  },
  {
   "cell_type": "code",
   "execution_count": 53,
   "metadata": {
    "collapsed": true,
    "scrolled": true
   },
   "outputs": [],
   "source": [
    "merged[\"contributor_fullname\"] = merged.apply(steyer_fix, axis = 1)"
   ]
  },
  {
   "cell_type": "code",
   "execution_count": 55,
   "metadata": {
    "collapsed": true
   },
   "outputs": [],
   "source": [
    "merged['is_org'] = merged.contributor_firstname.isnull()"
   ]
  },
  {
   "cell_type": "code",
   "execution_count": 56,
   "metadata": {
    "collapsed": true
   },
   "outputs": [],
   "source": [
    "merged['contributor_cleanname'] = merged.apply(combine_names, axis = 1)"
   ]
  },
  {
   "cell_type": "markdown",
   "metadata": {},
   "source": [
    "Report on the top contributors to Prop. 56 campaign."
   ]
  },
  {
   "cell_type": "code",
   "execution_count": 58,
   "metadata": {
    "scrolled": true
   },
   "outputs": [
    {
     "data": {
      "text/html": [
       "<div>\n",
       "<style>\n",
       "    .dataframe thead tr:only-child th {\n",
       "        text-align: right;\n",
       "    }\n",
       "\n",
       "    .dataframe thead th {\n",
       "        text-align: left;\n",
       "    }\n",
       "\n",
       "    .dataframe tbody tr th {\n",
       "        vertical-align: top;\n",
       "    }\n",
       "</style>\n",
       "<table border=\"1\" class=\"dataframe\">\n",
       "  <thead>\n",
       "    <tr style=\"text-align: right;\">\n",
       "      <th></th>\n",
       "      <th>contributor_cleanname</th>\n",
       "      <th>committee_position</th>\n",
       "      <th>amount</th>\n",
       "    </tr>\n",
       "  </thead>\n",
       "  <tbody>\n",
       "    <tr>\n",
       "      <th>82</th>\n",
       "      <td>PHILIP MORRIS USA INC. (MADE BY ITS SERVICE CO...</td>\n",
       "      <td>OPPOSE</td>\n",
       "      <td>28450188.0</td>\n",
       "    </tr>\n",
       "    <tr>\n",
       "      <th>97</th>\n",
       "      <td>R.J. REYNOLDS TOBACCO COMPANY (MADE BY ITS SER...</td>\n",
       "      <td>OPPOSE</td>\n",
       "      <td>20140000.0</td>\n",
       "    </tr>\n",
       "    <tr>\n",
       "      <th>115</th>\n",
       "      <td>THOMAS STEYER</td>\n",
       "      <td>SUPPORT</td>\n",
       "      <td>13050000.0</td>\n",
       "    </tr>\n",
       "    <tr>\n",
       "      <th>16</th>\n",
       "      <td>CA HOSPITALS COMMITTEE ON ISSUES, (CHCI) SPONS...</td>\n",
       "      <td>SUPPORT</td>\n",
       "      <td>9000000.0</td>\n",
       "    </tr>\n",
       "    <tr>\n",
       "      <th>120</th>\n",
       "      <td>UST LLC (MADE BY ITS SERVICE COMPANY, ALTRIA C...</td>\n",
       "      <td>OPPOSE</td>\n",
       "      <td>3299144.0</td>\n",
       "    </tr>\n",
       "    <tr>\n",
       "      <th>24</th>\n",
       "      <td>CALIFORNIA STATE COUNCIL OF SERVICE EMPLOYEES ...</td>\n",
       "      <td>SUPPORT</td>\n",
       "      <td>2000000.0</td>\n",
       "    </tr>\n",
       "    <tr>\n",
       "      <th>48</th>\n",
       "      <td>ITG BRANDS LLC</td>\n",
       "      <td>OPPOSE</td>\n",
       "      <td>1050000.0</td>\n",
       "    </tr>\n",
       "    <tr>\n",
       "      <th>51</th>\n",
       "      <td>JOHN MIDDLETON CO. (MADE BY ITS SERVICE COMPAN...</td>\n",
       "      <td>OPPOSE</td>\n",
       "      <td>1018660.0</td>\n",
       "    </tr>\n",
       "    <tr>\n",
       "      <th>22</th>\n",
       "      <td>CALIFORNIA MEDICAL ASSOCIATION</td>\n",
       "      <td>SUPPORT</td>\n",
       "      <td>1000000.0</td>\n",
       "    </tr>\n",
       "    <tr>\n",
       "      <th>20</th>\n",
       "      <td>CALIFORNIA DENTAL ASSOCIATION</td>\n",
       "      <td>SUPPORT</td>\n",
       "      <td>1000000.0</td>\n",
       "    </tr>\n",
       "  </tbody>\n",
       "</table>\n",
       "</div>"
      ],
      "text/plain": [
       "                                 contributor_cleanname committee_position  \\\n",
       "82   PHILIP MORRIS USA INC. (MADE BY ITS SERVICE CO...             OPPOSE   \n",
       "97   R.J. REYNOLDS TOBACCO COMPANY (MADE BY ITS SER...             OPPOSE   \n",
       "115                                      THOMAS STEYER            SUPPORT   \n",
       "16   CA HOSPITALS COMMITTEE ON ISSUES, (CHCI) SPONS...            SUPPORT   \n",
       "120  UST LLC (MADE BY ITS SERVICE COMPANY, ALTRIA C...             OPPOSE   \n",
       "24   CALIFORNIA STATE COUNCIL OF SERVICE EMPLOYEES ...            SUPPORT   \n",
       "48                                      ITG BRANDS LLC             OPPOSE   \n",
       "51   JOHN MIDDLETON CO. (MADE BY ITS SERVICE COMPAN...             OPPOSE   \n",
       "22                      CALIFORNIA MEDICAL ASSOCIATION            SUPPORT   \n",
       "20                       CALIFORNIA DENTAL ASSOCIATION            SUPPORT   \n",
       "\n",
       "         amount  \n",
       "82   28450188.0  \n",
       "97   20140000.0  \n",
       "115  13050000.0  \n",
       "16    9000000.0  \n",
       "120   3299144.0  \n",
       "24    2000000.0  \n",
       "48    1050000.0  \n",
       "51    1018660.0  \n",
       "22    1000000.0  \n",
       "20    1000000.0  "
      ]
     },
     "execution_count": 58,
     "metadata": {},
     "output_type": "execute_result"
    }
   ],
   "source": [
    "merged.groupby([\"contributor_cleanname\", \"committee_position\"]).amount.sum().reset_index().sort_values(\"amount\", ascending=False).head(10)"
   ]
  },
  {
   "cell_type": "code",
   "execution_count": 61,
   "metadata": {
    "collapsed": true
   },
   "outputs": [],
   "source": [
    "top_contributors = merged.groupby([\"contributor_cleanname\", \"committee_position\"]).amount.sum().reset_index().sort_values(\"amount\", ascending=False).head(10)"
   ]
  },
  {
   "cell_type": "code",
   "execution_count": 68,
   "metadata": {},
   "outputs": [
    {
     "data": {
      "text/plain": [
       "[<matplotlib.text.Text at 0x109ddccd0>,\n",
       " <matplotlib.text.Text at 0x109de7610>,\n",
       " <matplotlib.text.Text at 0x109e4e490>,\n",
       " <matplotlib.text.Text at 0x109e4eb90>,\n",
       " <matplotlib.text.Text at 0x109e59050>]"
      ]
     },
     "execution_count": 68,
     "metadata": {},
     "output_type": "execute_result"
    },
    {
     "data": {
      "image/png": "[encoded data removed]",
      "text/plain": [
       "<matplotlib.figure.Figure at 0x1080ffbd0>"
      ]
     },
     "metadata": {},
     "output_type": "display_data"
    }
   ],
   "source": [
    "chart = top_supporters.head(5).amount.plot.barh()\n",
    "chart.set_yticklabels(top_supporters.contributor_cleanname)"
   ]
  }
 ],
 "metadata": {
  "kernelspec": {
   "display_name": "Python 2",
   "language": "python",
   "name": "python2"
  },
  "language_info": {
   "codemirror_mode": {
    "name": "ipython",
    "version": 2
   },
   "file_extension": ".py",
   "mimetype": "text/x-python",
   "name": "python",
   "nbconvert_exporter": "python",
   "pygments_lexer": "ipython2",
   "version": "2.7.10"
  }
 },
 "nbformat": 4,
 "nbformat_minor": 2
}
